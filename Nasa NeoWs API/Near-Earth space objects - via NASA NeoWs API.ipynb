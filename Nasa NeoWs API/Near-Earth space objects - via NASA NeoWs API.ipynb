{
 "cells": [
  {
   "cell_type": "markdown",
   "id": "bb22ebd1",
   "metadata": {},
   "source": [
    "# Task\n",
    "Write a simple Python script/program that takes two date arguments and retrieves the list of near-Earth space objects approaching Earth in that time interval. Output the list of the objects, sorted by their closest approach distance, in an aligned tabular format, the object name, size estimate, time and distance of the closest encounter.\n",
    "The data should come from the API of NeoWs service at https://api.nasa.gov/ (free registration required)."
   ]
  },
  {
   "cell_type": "code",
   "execution_count": 183,
   "id": "083011e0",
   "metadata": {},
   "outputs": [],
   "source": [
    "import requests\n",
    "import pandas as pd"
   ]
  },
  {
   "cell_type": "markdown",
   "id": "f97e41c0",
   "metadata": {},
   "source": [
    "# Question: Will the fall of a space object disrupt my birthday party in 2022?\n",
    "Let's get the data and store it as json file."
   ]
  },
  {
   "cell_type": "code",
   "execution_count": 184,
   "id": "370d9fdc",
   "metadata": {},
   "outputs": [],
   "source": [
    "response = requests.get(\"https://api.nasa.gov/neo/rest/v1/feed?start_date=2022-05-12&end_date=2022-05-19&api_key=qVNuxuWB0l7e3SRfNz8USva2h3IOUyj7HaxutEc8\")\n",
    "\n",
    "json_data = response.json()\n",
    "df = pd.DataFrame(json_data)\n",
    "df.to_json('nasa_neows.json')"
   ]
  },
  {
   "cell_type": "markdown",
   "id": "d8d71fcc",
   "metadata": {},
   "source": [
    "Read data and drop na."
   ]
  },
  {
   "cell_type": "code",
   "execution_count": 185,
   "id": "e78253d6",
   "metadata": {},
   "outputs": [
    {
     "data": {
      "text/html": [
       "<div>\n",
       "<style scoped>\n",
       "    .dataframe tbody tr th:only-of-type {\n",
       "        vertical-align: middle;\n",
       "    }\n",
       "\n",
       "    .dataframe tbody tr th {\n",
       "        vertical-align: top;\n",
       "    }\n",
       "\n",
       "    .dataframe thead th {\n",
       "        text-align: right;\n",
       "    }\n",
       "</style>\n",
       "<table border=\"1\" class=\"dataframe\">\n",
       "  <thead>\n",
       "    <tr style=\"text-align: right;\">\n",
       "      <th></th>\n",
       "      <th>links</th>\n",
       "      <th>element_count</th>\n",
       "      <th>near_earth_objects</th>\n",
       "    </tr>\n",
       "  </thead>\n",
       "  <tbody>\n",
       "    <tr>\n",
       "      <th>2022-05-18</th>\n",
       "      <td>None</td>\n",
       "      <td>66</td>\n",
       "      <td>[{'links': {'self': 'http://www.neowsapp.com/r...</td>\n",
       "    </tr>\n",
       "    <tr>\n",
       "      <th>2022-05-19</th>\n",
       "      <td>None</td>\n",
       "      <td>66</td>\n",
       "      <td>[{'links': {'self': 'http://www.neowsapp.com/r...</td>\n",
       "    </tr>\n",
       "    <tr>\n",
       "      <th>2022-05-16</th>\n",
       "      <td>None</td>\n",
       "      <td>66</td>\n",
       "      <td>[{'links': {'self': 'http://www.neowsapp.com/r...</td>\n",
       "    </tr>\n",
       "    <tr>\n",
       "      <th>2022-05-17</th>\n",
       "      <td>None</td>\n",
       "      <td>66</td>\n",
       "      <td>[{'links': {'self': 'http://www.neowsapp.com/r...</td>\n",
       "    </tr>\n",
       "    <tr>\n",
       "      <th>2022-05-14</th>\n",
       "      <td>None</td>\n",
       "      <td>66</td>\n",
       "      <td>[{'links': {'self': 'http://www.neowsapp.com/r...</td>\n",
       "    </tr>\n",
       "    <tr>\n",
       "      <th>2022-05-15</th>\n",
       "      <td>None</td>\n",
       "      <td>66</td>\n",
       "      <td>[{'links': {'self': 'http://www.neowsapp.com/r...</td>\n",
       "    </tr>\n",
       "    <tr>\n",
       "      <th>2022-05-12</th>\n",
       "      <td>None</td>\n",
       "      <td>66</td>\n",
       "      <td>[{'links': {'self': 'http://www.neowsapp.com/r...</td>\n",
       "    </tr>\n",
       "    <tr>\n",
       "      <th>2022-05-13</th>\n",
       "      <td>None</td>\n",
       "      <td>66</td>\n",
       "      <td>[{'links': {'self': 'http://www.neowsapp.com/r...</td>\n",
       "    </tr>\n",
       "  </tbody>\n",
       "</table>\n",
       "</div>"
      ],
      "text/plain": [
       "           links  element_count  \\\n",
       "2022-05-18  None             66   \n",
       "2022-05-19  None             66   \n",
       "2022-05-16  None             66   \n",
       "2022-05-17  None             66   \n",
       "2022-05-14  None             66   \n",
       "2022-05-15  None             66   \n",
       "2022-05-12  None             66   \n",
       "2022-05-13  None             66   \n",
       "\n",
       "                                           near_earth_objects  \n",
       "2022-05-18  [{'links': {'self': 'http://www.neowsapp.com/r...  \n",
       "2022-05-19  [{'links': {'self': 'http://www.neowsapp.com/r...  \n",
       "2022-05-16  [{'links': {'self': 'http://www.neowsapp.com/r...  \n",
       "2022-05-17  [{'links': {'self': 'http://www.neowsapp.com/r...  \n",
       "2022-05-14  [{'links': {'self': 'http://www.neowsapp.com/r...  \n",
       "2022-05-15  [{'links': {'self': 'http://www.neowsapp.com/r...  \n",
       "2022-05-12  [{'links': {'self': 'http://www.neowsapp.com/r...  \n",
       "2022-05-13  [{'links': {'self': 'http://www.neowsapp.com/r...  "
      ]
     },
     "execution_count": 185,
     "metadata": {},
     "output_type": "execute_result"
    }
   ],
   "source": [
    "planets_df = pd.read_json(\"nasa_neows.json\")\n",
    "planets_df = planets_df[planets_df['near_earth_objects'].notna()]\n",
    "planets_df"
   ]
  },
  {
   "cell_type": "markdown",
   "id": "27abeb8a",
   "metadata": {},
   "source": [
    "Let's write a function that will search \"near_earth_objects\" column for all the information we need: Object name, size, time and distance of the closest encounter."
   ]
  },
  {
   "cell_type": "code",
   "execution_count": 186,
   "id": "c93b702a",
   "metadata": {},
   "outputs": [],
   "source": [
    "def dates(df, column, row):\n",
    "    \n",
    "# define the date we will work with\n",
    "    date = df[column][row]\n",
    "    date = pd.json_normalize(date, max_level=2)\n",
    "    \n",
    "# drop unnecessary columns\n",
    "    date = date[['name','close_approach_data','estimated_diameter.meters.estimated_diameter_min',\n",
    "                 'estimated_diameter.meters.estimated_diameter_max']]\n",
    "\n",
    "# we need the size of an object - let's calculate the averge from min and max values\n",
    "    date[\"size_estimate_m\"] = (date['estimated_diameter.meters.estimated_diameter_min'] +\n",
    "                                date['estimated_diameter.meters.estimated_diameter_max'])/2\n",
    "    \n",
    "# get time and distance of the closest encounter from \"close_approach_data\" column\n",
    "    times = []\n",
    "    closest_approach_distance = []\n",
    "    for idx, object in date.iterrows():\n",
    "        close_approach_data = date[\"close_approach_data\"][idx]\n",
    "        close_approach_data = pd.json_normalize(close_approach_data, max_level=2)\n",
    "        object_closest_approach_distance = close_approach_data[\"miss_distance.kilometers\"].values\n",
    "        object_closest_approach_distance = object_closest_approach_distance[0]\n",
    "        closest_approach_distance.append(object_closest_approach_distance)\n",
    "        full_date = close_approach_data[\"close_approach_date_full\"].values\n",
    "        full_date = full_date[0]\n",
    "        times.append(full_date)\n",
    "\n",
    "# add times and closest approach distances to dataframe\n",
    "    date[\"time\"] = times\n",
    "    date[\"closest_approach_distance_m\"] = closest_approach_distance\n",
    "    \n",
    "# drop columns we don't need\n",
    "    date = date.drop(columns=['estimated_diameter.meters.estimated_diameter_min',\n",
    "                              'estimated_diameter.meters.estimated_diameter_max',\n",
    "                              'close_approach_data'])\n",
    "# return dataframe\n",
    "    return date"
   ]
  },
  {
   "cell_type": "markdown",
   "id": "02d3d415",
   "metadata": {},
   "source": [
    "Let's create empty dataframe to store our data into."
   ]
  },
  {
   "cell_type": "code",
   "execution_count": 187,
   "id": "0f5b06e8",
   "metadata": {},
   "outputs": [],
   "source": [
    "final_planets_df = pd.DataFrame(columns=[\"name\", \"size_estimate_m\", \"time\", \"closest_approach_distance_m\"])"
   ]
  },
  {
   "cell_type": "markdown",
   "id": "05cd9265",
   "metadata": {},
   "source": [
    "Let's check every row of original dataframe to get clean data."
   ]
  },
  {
   "cell_type": "code",
   "execution_count": 188,
   "id": "a603010e",
   "metadata": {},
   "outputs": [],
   "source": [
    "for idx, date in planets_df.iterrows():\n",
    "    df = dates(planets_df, 'near_earth_objects', idx)\n",
    "    final_planets_df = pd.concat([final_planets_df, df], ignore_index=True)"
   ]
  },
  {
   "cell_type": "markdown",
   "id": "e69e4044",
   "metadata": {},
   "source": [
    "Let's check how the final dataframe looks like."
   ]
  },
  {
   "cell_type": "code",
   "execution_count": 189,
   "id": "99789768",
   "metadata": {},
   "outputs": [
    {
     "data": {
      "text/html": [
       "<div>\n",
       "<style scoped>\n",
       "    .dataframe tbody tr th:only-of-type {\n",
       "        vertical-align: middle;\n",
       "    }\n",
       "\n",
       "    .dataframe tbody tr th {\n",
       "        vertical-align: top;\n",
       "    }\n",
       "\n",
       "    .dataframe thead th {\n",
       "        text-align: right;\n",
       "    }\n",
       "</style>\n",
       "<table border=\"1\" class=\"dataframe\">\n",
       "  <thead>\n",
       "    <tr style=\"text-align: right;\">\n",
       "      <th></th>\n",
       "      <th>name</th>\n",
       "      <th>size_estimate_m</th>\n",
       "      <th>time</th>\n",
       "      <th>closest_approach_distance_m</th>\n",
       "    </tr>\n",
       "  </thead>\n",
       "  <tbody>\n",
       "    <tr>\n",
       "      <th>0</th>\n",
       "      <td>(2010 UY7)</td>\n",
       "      <td>8.581093</td>\n",
       "      <td>2022-May-18 03:36</td>\n",
       "      <td>36935621.621596766</td>\n",
       "    </tr>\n",
       "    <tr>\n",
       "      <th>1</th>\n",
       "      <td>(2016 JG)</td>\n",
       "      <td>56.694720</td>\n",
       "      <td>2022-May-18 13:34</td>\n",
       "      <td>54865207.91420768</td>\n",
       "    </tr>\n",
       "    <tr>\n",
       "      <th>2</th>\n",
       "      <td>(2019 TZ)</td>\n",
       "      <td>20.584609</td>\n",
       "      <td>2022-May-18 11:34</td>\n",
       "      <td>59997358.383933557</td>\n",
       "    </tr>\n",
       "    <tr>\n",
       "      <th>3</th>\n",
       "      <td>(2020 UZ)</td>\n",
       "      <td>163.509359</td>\n",
       "      <td>2022-May-18 19:22</td>\n",
       "      <td>50000280.768670515</td>\n",
       "    </tr>\n",
       "    <tr>\n",
       "      <th>4</th>\n",
       "      <td>(2020 XG)</td>\n",
       "      <td>10.128441</td>\n",
       "      <td>2022-May-18 02:52</td>\n",
       "      <td>46516703.344200312</td>\n",
       "    </tr>\n",
       "    <tr>\n",
       "      <th>...</th>\n",
       "      <td>...</td>\n",
       "      <td>...</td>\n",
       "      <td>...</td>\n",
       "      <td>...</td>\n",
       "    </tr>\n",
       "    <tr>\n",
       "      <th>61</th>\n",
       "      <td>265482 (2005 EE)</td>\n",
       "      <td>249.771348</td>\n",
       "      <td>2022-May-13 23:25</td>\n",
       "      <td>72943385.193394772</td>\n",
       "    </tr>\n",
       "    <tr>\n",
       "      <th>62</th>\n",
       "      <td>(2016 KL)</td>\n",
       "      <td>29.753812</td>\n",
       "      <td>2022-May-13 23:18</td>\n",
       "      <td>57336656.310423694</td>\n",
       "    </tr>\n",
       "    <tr>\n",
       "      <th>63</th>\n",
       "      <td>(2018 VZ6)</td>\n",
       "      <td>28.414670</td>\n",
       "      <td>2022-May-13 19:18</td>\n",
       "      <td>24691195.493265334</td>\n",
       "    </tr>\n",
       "    <tr>\n",
       "      <th>64</th>\n",
       "      <td>(2021 JO2)</td>\n",
       "      <td>22.158615</td>\n",
       "      <td>2022-May-13 16:45</td>\n",
       "      <td>48604582.113586124</td>\n",
       "    </tr>\n",
       "    <tr>\n",
       "      <th>65</th>\n",
       "      <td>(2021 XA6)</td>\n",
       "      <td>45.597666</td>\n",
       "      <td>2022-May-13 08:57</td>\n",
       "      <td>29957265.946295637</td>\n",
       "    </tr>\n",
       "  </tbody>\n",
       "</table>\n",
       "<p>66 rows × 4 columns</p>\n",
       "</div>"
      ],
      "text/plain": [
       "                name  size_estimate_m               time  \\\n",
       "0         (2010 UY7)         8.581093  2022-May-18 03:36   \n",
       "1          (2016 JG)        56.694720  2022-May-18 13:34   \n",
       "2          (2019 TZ)        20.584609  2022-May-18 11:34   \n",
       "3          (2020 UZ)       163.509359  2022-May-18 19:22   \n",
       "4          (2020 XG)        10.128441  2022-May-18 02:52   \n",
       "..               ...              ...                ...   \n",
       "61  265482 (2005 EE)       249.771348  2022-May-13 23:25   \n",
       "62         (2016 KL)        29.753812  2022-May-13 23:18   \n",
       "63        (2018 VZ6)        28.414670  2022-May-13 19:18   \n",
       "64        (2021 JO2)        22.158615  2022-May-13 16:45   \n",
       "65        (2021 XA6)        45.597666  2022-May-13 08:57   \n",
       "\n",
       "   closest_approach_distance_m  \n",
       "0           36935621.621596766  \n",
       "1            54865207.91420768  \n",
       "2           59997358.383933557  \n",
       "3           50000280.768670515  \n",
       "4           46516703.344200312  \n",
       "..                         ...  \n",
       "61          72943385.193394772  \n",
       "62          57336656.310423694  \n",
       "63          24691195.493265334  \n",
       "64          48604582.113586124  \n",
       "65          29957265.946295637  \n",
       "\n",
       "[66 rows x 4 columns]"
      ]
     },
     "execution_count": 189,
     "metadata": {},
     "output_type": "execute_result"
    }
   ],
   "source": [
    "final_planets_df"
   ]
  },
  {
   "cell_type": "markdown",
   "id": "9ba8f5e6",
   "metadata": {},
   "source": [
    "To fit the conditions we need to change the type of values:\n",
    "- take two date arguments: in \"time\" column to datetime\n",
    "- sort by their closest approach distance: in \"closest_approach_distance_km\" column to numeric"
   ]
  },
  {
   "cell_type": "code",
   "execution_count": 190,
   "id": "87aa2a23",
   "metadata": {},
   "outputs": [],
   "source": [
    "final_planets_df[\"time\"] = final_planets_df[\"time\"].apply(pd.to_datetime)\n",
    "final_planets_df[\"closest_approach_distance_m\"] = final_planets_df[\"closest_approach_distance_m\"].apply(pd.to_numeric)"
   ]
  },
  {
   "cell_type": "markdown",
   "id": "aa327feb",
   "metadata": {},
   "source": [
    "The final function is:"
   ]
  },
  {
   "cell_type": "code",
   "execution_count": 191,
   "id": "f4a26920",
   "metadata": {},
   "outputs": [],
   "source": [
    "def find_nearest_planets(start, end):\n",
    "    result = (final_planets_df[(final_planets_df['time'] > start) & (final_planets_df[\"time\"] < end)])\\\n",
    "        .sort_values(by=['closest_approach_distance_m']).reset_index()\n",
    "    result = result.drop(columns=\"index\")\n",
    "    print(result)"
   ]
  },
  {
   "cell_type": "markdown",
   "id": "92b03fa1",
   "metadata": {},
   "source": [
    "Let's try."
   ]
  },
  {
   "cell_type": "code",
   "execution_count": 192,
   "id": "3fcc0e94",
   "metadata": {
    "scrolled": false
   },
   "outputs": [
    {
     "name": "stdout",
     "output_type": "stream",
     "text": [
      "          name  size_estimate_m                time  \\\n",
      "0    (2013 UX)       171.215318 2022-05-17 13:08:00   \n",
      "1    (2021 WY)        78.984635 2022-05-18 22:55:00   \n",
      "2    (2021 XE)         7.644386 2022-05-17 13:29:00   \n",
      "3   (2021 BF2)        24.862375 2022-05-18 15:04:00   \n",
      "4   (2010 UY7)         8.581093 2022-05-18 03:36:00   \n",
      "5   (2021 TA8)       248.623752 2022-05-17 18:51:00   \n",
      "6   (2021 KA1)        26.154271 2022-05-18 02:01:00   \n",
      "7    (2020 XG)        10.128441 2022-05-18 02:52:00   \n",
      "8    (2020 UZ)       163.509359 2022-05-18 19:22:00   \n",
      "9    (2016 JG)        56.694720 2022-05-18 13:34:00   \n",
      "10   (2019 TZ)        20.584609 2022-05-18 11:34:00   \n",
      "\n",
      "    closest_approach_distance_m  \n",
      "0                  6.433842e+06  \n",
      "1                  6.479766e+06  \n",
      "2                  1.716175e+07  \n",
      "3                  1.800905e+07  \n",
      "4                  3.693562e+07  \n",
      "5                  4.043623e+07  \n",
      "6                  4.288893e+07  \n",
      "7                  4.651670e+07  \n",
      "8                  5.000028e+07  \n",
      "9                  5.486521e+07  \n",
      "10                 5.999736e+07  \n"
     ]
    }
   ],
   "source": [
    "find_nearest_planets(\"2022-05-17 10:00:00\", \"2022-05-19 02:00:00\")"
   ]
  },
  {
   "cell_type": "markdown",
   "id": "ce9c88b0",
   "metadata": {},
   "source": [
    "# Answer: The closest approach distance might be save, let's celebrate!"
   ]
  }
 ],
 "metadata": {
  "kernelspec": {
   "display_name": "Python 3 (ipykernel)",
   "language": "python",
   "name": "python3"
  },
  "language_info": {
   "codemirror_mode": {
    "name": "ipython",
    "version": 3
   },
   "file_extension": ".py",
   "mimetype": "text/x-python",
   "name": "python",
   "nbconvert_exporter": "python",
   "pygments_lexer": "ipython3",
   "version": "3.9.1"
  }
 },
 "nbformat": 4,
 "nbformat_minor": 5
}
